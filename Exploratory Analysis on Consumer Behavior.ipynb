{
 "cells": [
  {
   "cell_type": "markdown",
   "metadata": {},
   "source": [
    "### Exploratory Analysis on Consumer Behavior\n",
    "#### Author: Qingchuan Lyu\n",
    "#### Overview\n",
    "Given the customer, date, and dollar value of orders placed at a store in 2017, as well as the actual gender and predicted gender of each customer, I completed the following exploratory analysis to understand purchasing behavior and consumer backgrounds, such as genders. For each question, I stated any considerations or assumptions in my mind. \n",
    "\n",
    "A) Assemble a dataframe with one row per customer and the following columns:\n",
    "\n",
    "customer_id * gender * most_recent_order_date * order_count (number of orders placed by this customer)\n",
    "\n",
    "Sort the dataframe by customer_id ascending and display the first 10 rows.\n",
    "\n",
    "B) Plot the count of orders per week for the store.\n",
    "\n",
    "C) Compute the mean order value for gender 0 and for gender 1. Do you think the difference is significant? Justify your choice of method.\n",
    "\n",
    "D) Generate a confusion matrix for the gender predictions of customers in this dataset. You should assume that there is only one gender prediction for each customer. What does the confusion matrix tell you about the quality of the predictions?\n",
    "\n",
    "E) Describe one of your favorite tools or techniques and give a small example of how it's helped you solve a problem. Limit your answer to one paragraph, and please be specific.\n",
    "\n",
    "##### Note: This notebook is fully tested with no error."
   ]
  },
  {
   "cell_type": "code",
   "execution_count": 28,
   "metadata": {},
   "outputs": [],
   "source": [
    "# Import libraries\n",
    "import pandas as pd #dataframe manipulation\n",
    "import numpy as np #matrix computation\n",
    "import os #check and change working directories\n",
    "from datetime import datetime #convert string to datetime\n",
    "from scipy import stats #test statistics\n",
    "from sklearn.metrics import confusion_matrix #confusion matrix\n",
    "import matplotlib.pyplot as plt #plots"
   ]
  },
  {
   "cell_type": "code",
   "execution_count": 29,
   "metadata": {},
   "outputs": [
    {
     "data": {
      "text/html": [
       "<div>\n",
       "<style scoped>\n",
       "    .dataframe tbody tr th:only-of-type {\n",
       "        vertical-align: middle;\n",
       "    }\n",
       "\n",
       "    .dataframe tbody tr th {\n",
       "        vertical-align: top;\n",
       "    }\n",
       "\n",
       "    .dataframe thead th {\n",
       "        text-align: right;\n",
       "    }\n",
       "</style>\n",
       "<table border=\"1\" class=\"dataframe\">\n",
       "  <thead>\n",
       "    <tr style=\"text-align: right;\">\n",
       "      <th></th>\n",
       "      <th>customer_id</th>\n",
       "      <th>gender</th>\n",
       "      <th>date</th>\n",
       "      <th>value</th>\n",
       "      <th>predicted_gender</th>\n",
       "      <th>date_time</th>\n",
       "    </tr>\n",
       "  </thead>\n",
       "  <tbody>\n",
       "    <tr>\n",
       "      <th>0</th>\n",
       "      <td>1000</td>\n",
       "      <td>0</td>\n",
       "      <td>2017-01-01 00:11:31</td>\n",
       "      <td>198.5</td>\n",
       "      <td>1</td>\n",
       "      <td>2017-01-01 00:11:31</td>\n",
       "    </tr>\n",
       "    <tr>\n",
       "      <th>1</th>\n",
       "      <td>1001</td>\n",
       "      <td>0</td>\n",
       "      <td>2017-01-01 00:29:56</td>\n",
       "      <td>338.0</td>\n",
       "      <td>1</td>\n",
       "      <td>2017-01-01 00:29:56</td>\n",
       "    </tr>\n",
       "    <tr>\n",
       "      <th>2</th>\n",
       "      <td>1002</td>\n",
       "      <td>1</td>\n",
       "      <td>2017-01-01 01:30:31</td>\n",
       "      <td>733.0</td>\n",
       "      <td>1</td>\n",
       "      <td>2017-01-01 01:30:31</td>\n",
       "    </tr>\n",
       "    <tr>\n",
       "      <th>3</th>\n",
       "      <td>1003</td>\n",
       "      <td>1</td>\n",
       "      <td>2017-01-01 01:34:22</td>\n",
       "      <td>772.0</td>\n",
       "      <td>1</td>\n",
       "      <td>2017-01-01 01:34:22</td>\n",
       "    </tr>\n",
       "    <tr>\n",
       "      <th>4</th>\n",
       "      <td>1004</td>\n",
       "      <td>0</td>\n",
       "      <td>2017-01-01 03:11:54</td>\n",
       "      <td>508.0</td>\n",
       "      <td>1</td>\n",
       "      <td>2017-01-01 03:11:54</td>\n",
       "    </tr>\n",
       "  </tbody>\n",
       "</table>\n",
       "</div>"
      ],
      "text/plain": [
       "   customer_id  gender                 date  value  predicted_gender  \\\n",
       "0         1000       0  2017-01-01 00:11:31  198.5                 1   \n",
       "1         1001       0  2017-01-01 00:29:56  338.0                 1   \n",
       "2         1002       1  2017-01-01 01:30:31  733.0                 1   \n",
       "3         1003       1  2017-01-01 01:34:22  772.0                 1   \n",
       "4         1004       0  2017-01-01 03:11:54  508.0                 1   \n",
       "\n",
       "            date_time  \n",
       "0 2017-01-01 00:11:31  \n",
       "1 2017-01-01 00:29:56  \n",
       "2 2017-01-01 01:30:31  \n",
       "3 2017-01-01 01:34:22  \n",
       "4 2017-01-01 03:11:54  "
      ]
     },
     "execution_count": 29,
     "metadata": {},
     "output_type": "execute_result"
    }
   ],
   "source": [
    "# Read in csv file\n",
    "csv_file = pd.read_csv (r'/Users/qingchuanlyu/Documents/Application/take home challenge/screening_exercise_orders_v201810.csv')\n",
    "# Python transfers \"date\" variable from csv file to be a string column in this dataframe \n",
    "# Translate \"date\" back to be a datetime variable\n",
    "csv_file['date_time'] = pd.to_datetime(csv_file['date']) \n",
    "# Check column names and values\n",
    "csv_file.head(5)"
   ]
  },
  {
   "cell_type": "markdown",
   "metadata": {},
   "source": [
    "### Question A\n",
    "Assemble a dataframe with one row per customer and the following columns:customer_id * gender * most_recent_order_date * order_count (number of orders placed by this customer). Sort the dataframe by customer_id ascending and display the first 10 rows.\n",
    "#### Considerations for Question A\n",
    "Before querying data, I need to check if each customer has only one unique gender. Adding \"gender\" as a group key in \"groupby\" statement will lead to more than one row per customer, if a customer corresponds to multiple genders due to data collection errors.\n",
    "In practice, a customer might place two orders at the same time, so I count \"customer_id\" as the number of orders a customer placed."
   ]
  },
  {
   "cell_type": "code",
   "execution_count": 30,
   "metadata": {},
   "outputs": [
    {
     "data": {
      "text/plain": [
       "True"
      ]
     },
     "execution_count": 30,
     "metadata": {},
     "output_type": "execute_result"
    }
   ],
   "source": [
    "len(csv_file.groupby(['customer_id']))==len(csv_file.groupby(['customer_id', 'gender']))"
   ]
  },
  {
   "cell_type": "markdown",
   "metadata": {},
   "source": [
    "##### Note1: Group keys are sorted in ascending order by default using the groupby operation, so there’s no need for adding .sort_values() below.\n",
    "##### Note2: Pandas version must be greater than 0.25 for the syntax of .agg() function to work here."
   ]
  },
  {
   "cell_type": "code",
   "execution_count": 31,
   "metadata": {},
   "outputs": [
    {
     "data": {
      "text/html": [
       "<div>\n",
       "<style scoped>\n",
       "    .dataframe tbody tr th:only-of-type {\n",
       "        vertical-align: middle;\n",
       "    }\n",
       "\n",
       "    .dataframe tbody tr th {\n",
       "        vertical-align: top;\n",
       "    }\n",
       "\n",
       "    .dataframe thead th {\n",
       "        text-align: right;\n",
       "    }\n",
       "</style>\n",
       "<table border=\"1\" class=\"dataframe\">\n",
       "  <thead>\n",
       "    <tr style=\"text-align: right;\">\n",
       "      <th></th>\n",
       "      <th>customer_id</th>\n",
       "      <th>gender</th>\n",
       "      <th>most_recent_order_date</th>\n",
       "      <th>order_count</th>\n",
       "    </tr>\n",
       "  </thead>\n",
       "  <tbody>\n",
       "    <tr>\n",
       "      <th>0</th>\n",
       "      <td>1000</td>\n",
       "      <td>0</td>\n",
       "      <td>2017-01-01 00:11:31</td>\n",
       "      <td>1</td>\n",
       "    </tr>\n",
       "    <tr>\n",
       "      <th>1</th>\n",
       "      <td>1001</td>\n",
       "      <td>0</td>\n",
       "      <td>2017-01-01 00:29:56</td>\n",
       "      <td>1</td>\n",
       "    </tr>\n",
       "    <tr>\n",
       "      <th>2</th>\n",
       "      <td>1002</td>\n",
       "      <td>1</td>\n",
       "      <td>2017-02-19 21:35:31</td>\n",
       "      <td>3</td>\n",
       "    </tr>\n",
       "    <tr>\n",
       "      <th>3</th>\n",
       "      <td>1003</td>\n",
       "      <td>1</td>\n",
       "      <td>2017-04-26 02:37:20</td>\n",
       "      <td>4</td>\n",
       "    </tr>\n",
       "    <tr>\n",
       "      <th>4</th>\n",
       "      <td>1004</td>\n",
       "      <td>0</td>\n",
       "      <td>2017-01-01 03:11:54</td>\n",
       "      <td>1</td>\n",
       "    </tr>\n",
       "    <tr>\n",
       "      <th>5</th>\n",
       "      <td>1005</td>\n",
       "      <td>1</td>\n",
       "      <td>2017-12-16 01:39:27</td>\n",
       "      <td>2</td>\n",
       "    </tr>\n",
       "    <tr>\n",
       "      <th>6</th>\n",
       "      <td>1006</td>\n",
       "      <td>1</td>\n",
       "      <td>2017-05-09 15:27:20</td>\n",
       "      <td>3</td>\n",
       "    </tr>\n",
       "    <tr>\n",
       "      <th>7</th>\n",
       "      <td>1007</td>\n",
       "      <td>0</td>\n",
       "      <td>2017-01-01 15:59:50</td>\n",
       "      <td>1</td>\n",
       "    </tr>\n",
       "    <tr>\n",
       "      <th>8</th>\n",
       "      <td>1008</td>\n",
       "      <td>0</td>\n",
       "      <td>2017-12-17 05:47:48</td>\n",
       "      <td>3</td>\n",
       "    </tr>\n",
       "    <tr>\n",
       "      <th>9</th>\n",
       "      <td>1009</td>\n",
       "      <td>1</td>\n",
       "      <td>2017-01-01 19:27:17</td>\n",
       "      <td>1</td>\n",
       "    </tr>\n",
       "  </tbody>\n",
       "</table>\n",
       "</div>"
      ],
      "text/plain": [
       "   customer_id  gender most_recent_order_date  order_count\n",
       "0         1000       0    2017-01-01 00:11:31            1\n",
       "1         1001       0    2017-01-01 00:29:56            1\n",
       "2         1002       1    2017-02-19 21:35:31            3\n",
       "3         1003       1    2017-04-26 02:37:20            4\n",
       "4         1004       0    2017-01-01 03:11:54            1\n",
       "5         1005       1    2017-12-16 01:39:27            2\n",
       "6         1006       1    2017-05-09 15:27:20            3\n",
       "7         1007       0    2017-01-01 15:59:50            1\n",
       "8         1008       0    2017-12-17 05:47:48            3\n",
       "9         1009       1    2017-01-01 19:27:17            1"
      ]
     },
     "execution_count": 31,
     "metadata": {},
     "output_type": "execute_result"
    }
   ],
   "source": [
    "customer_order_count=csv_file\\\n",
    "                    .groupby(['customer_id', 'gender']) \\\n",
    "                    .agg(most_recent_order_date=('date_time', 'max'), order_count=('customer_id', 'size')) \\\n",
    "                    .reset_index()\n",
    "\n",
    "customer_order_count.head(10)"
   ]
  },
  {
   "cell_type": "markdown",
   "metadata": {},
   "source": [
    "### Question B\n",
    "Plot the count of orders per week for the store."
   ]
  },
  {
   "cell_type": "code",
   "execution_count": 32,
   "metadata": {},
   "outputs": [
    {
     "data": {
      "text/html": [
       "<div>\n",
       "<style scoped>\n",
       "    .dataframe tbody tr th:only-of-type {\n",
       "        vertical-align: middle;\n",
       "    }\n",
       "\n",
       "    .dataframe tbody tr th {\n",
       "        vertical-align: top;\n",
       "    }\n",
       "\n",
       "    .dataframe thead th {\n",
       "        text-align: right;\n",
       "    }\n",
       "</style>\n",
       "<table border=\"1\" class=\"dataframe\">\n",
       "  <thead>\n",
       "    <tr style=\"text-align: right;\">\n",
       "      <th></th>\n",
       "      <th>date_week</th>\n",
       "      <th>weekly_order_count</th>\n",
       "    </tr>\n",
       "  </thead>\n",
       "  <tbody>\n",
       "    <tr>\n",
       "      <th>0</th>\n",
       "      <td>00</td>\n",
       "      <td>14</td>\n",
       "    </tr>\n",
       "    <tr>\n",
       "      <th>1</th>\n",
       "      <td>01</td>\n",
       "      <td>180</td>\n",
       "    </tr>\n",
       "    <tr>\n",
       "      <th>2</th>\n",
       "      <td>02</td>\n",
       "      <td>264</td>\n",
       "    </tr>\n",
       "    <tr>\n",
       "      <th>3</th>\n",
       "      <td>03</td>\n",
       "      <td>405</td>\n",
       "    </tr>\n",
       "    <tr>\n",
       "      <th>4</th>\n",
       "      <td>04</td>\n",
       "      <td>233</td>\n",
       "    </tr>\n",
       "  </tbody>\n",
       "</table>\n",
       "</div>"
      ],
      "text/plain": [
       "  date_week  weekly_order_count\n",
       "0        00                  14\n",
       "1        01                 180\n",
       "2        02                 264\n",
       "3        03                 405\n",
       "4        04                 233"
      ]
     },
     "execution_count": 32,
     "metadata": {},
     "output_type": "execute_result"
    }
   ],
   "source": [
    "# Calculate which week an order was placed with strftime(\"%W\")\n",
    "# strftime(\"%W\") uses Monday as the first day of the week. \n",
    "# All days in a new year preceding the first Monday are considered to be in week 0\n",
    "# Range: week 00 -- week 53\n",
    "csv_file['date_week']= csv_file['date_time'].apply(lambda x: x.strftime(\"%W\"))\n",
    "# Create a dataset at week level and count the number of orders\n",
    "orders_weekly = csv_file\\\n",
    "                .groupby(['date_week']) \\\n",
    "                .agg(weekly_order_count=('customer_id', 'size')) \\\n",
    "                .reset_index()\n",
    "\n",
    "orders_weekly.head(5)"
   ]
  },
  {
   "cell_type": "markdown",
   "metadata": {},
   "source": [
    "#### Considerations for Question B\n",
    "A natural guess of the goal of this research question is to compare the count of orders per week for this store, observe possible trends and search for any extreme values (highest/lowest). Therefore, I use a bar chart to track the changes of weekly order numbers for this store."
   ]
  },
  {
   "cell_type": "code",
   "execution_count": 33,
   "metadata": {},
   "outputs": [
    {
     "data": {
      "text/plain": [
       "<matplotlib.axes._subplots.AxesSubplot at 0x1a1ae701d0>"
      ]
     },
     "execution_count": 33,
     "metadata": {},
     "output_type": "execute_result"
    },
    {
     "data": {
      "image/png": "[encoded data removed]",
      "text/plain": [
       "<Figure size 720x360 with 1 Axes>"
      ]
     },
     "metadata": {
      "needs_background": "light"
     },
     "output_type": "display_data"
    }
   ],
   "source": [
    "orders_weekly.plot(kind='bar',figsize=(10,5),legend=\"upper right\", xlabel=\"Week in 2017\", ylabel=\"Number of Orders\", title=\"Number of Orders Per Week in 2017 for the Store\")"
   ]
  },
  {
   "cell_type": "markdown",
   "metadata": {},
   "source": [
    "##### Note: As the above bar chart didn't show a clear trend, I also used the following code to plot a line over the bars. However, this graph is a little messy and confirms the lack of a trend.\n",
    ">line_chart = df_orders_weekly.plot(kind='line',secondary_y=True, legend = None)\n",
    "\n",
    ">orders_weekly.plot(kind='bar',figsize=(10,5),legend=\"upper right\", xlabel=\"Week in 2017\", ylabel=\"Number of Orders\", ax = line_chart)"
   ]
  },
  {
   "cell_type": "markdown",
   "metadata": {},
   "source": [
    "### Question C \n",
    "Compute the mean order value for gender 0 and for gender 1. Do you think the difference is significant? Justify your choice of method."
   ]
  },
  {
   "cell_type": "code",
   "execution_count": 34,
   "metadata": {},
   "outputs": [
    {
     "data": {
      "text/html": [
       "<div>\n",
       "<style scoped>\n",
       "    .dataframe tbody tr th:only-of-type {\n",
       "        vertical-align: middle;\n",
       "    }\n",
       "\n",
       "    .dataframe tbody tr th {\n",
       "        vertical-align: top;\n",
       "    }\n",
       "\n",
       "    .dataframe thead th {\n",
       "        text-align: right;\n",
       "    }\n",
       "</style>\n",
       "<table border=\"1\" class=\"dataframe\">\n",
       "  <thead>\n",
       "    <tr style=\"text-align: right;\">\n",
       "      <th></th>\n",
       "      <th>gender</th>\n",
       "      <th>avg_order_values</th>\n",
       "      <th>count_order</th>\n",
       "    </tr>\n",
       "  </thead>\n",
       "  <tbody>\n",
       "    <tr>\n",
       "      <th>0</th>\n",
       "      <td>0</td>\n",
       "      <td>363.890006</td>\n",
       "      <td>6759</td>\n",
       "    </tr>\n",
       "    <tr>\n",
       "      <th>1</th>\n",
       "      <td>1</td>\n",
       "      <td>350.708361</td>\n",
       "      <td>6712</td>\n",
       "    </tr>\n",
       "  </tbody>\n",
       "</table>\n",
       "</div>"
      ],
      "text/plain": [
       "   gender  avg_order_values  count_order\n",
       "0       0        363.890006         6759\n",
       "1       1        350.708361         6712"
      ]
     },
     "execution_count": 34,
     "metadata": {},
     "output_type": "execute_result"
    }
   ],
   "source": [
    "# Compute the mean order value for gender 0 and for gender 1\n",
    "avg_values_gender = csv_file\\\n",
    "                    .groupby(['gender']) \\\n",
    "                    .agg(avg_order_values=('value', 'mean'),count_order=('value', 'size')) \\\n",
    "                    .reset_index()\n",
    "avg_values_gender"
   ]
  },
  {
   "cell_type": "markdown",
   "metadata": {},
   "source": [
    "#### Assumptions and Justifications for Question C\n",
    "To test if the difference between mean order value for gender 0 and for gender 1 is significant, I use a two-sample t test with the following assumptions:\n",
    "##### Assumption 1: The mean order values of the two populations, customers with gender 0 and gender 1, being compared should follow normal distributions.\n",
    "##### Justification for Assumption 1: According to the Central Limit Theorem, given a large random sample size (>30) with replacement, the sample mean is approximately normally distributed.\n",
    "##### Assumption 2: The data used to carry out this test should  be sampled independently from the two populations being compared. \n",
    "##### Justification for Assumption 2: By the previous check for Question A, each customer only has one unique gender. Without contexts, I just assume there's no paired(dependent) sample by test designs.\n",
    "##### Assumption 3: Unequal population variances. \n",
    "##### Justification for Assumption 3: In practice, equal population variances of two groups are rare. I let the option \"equal_var\" be False, and stats.ttest_ind performs a Welch’s t-test, which is insensitive to equality of the variances regardless of whether the sample sizes ('count_order' computed in the previous step) are similar."
   ]
  },
  {
   "cell_type": "code",
   "execution_count": 35,
   "metadata": {},
   "outputs": [
    {
     "data": {
      "text/plain": [
       "Ttest_indResult(statistic=1.976107933576866, pvalue=0.04816296295128402)"
      ]
     },
     "execution_count": 35,
     "metadata": {},
     "output_type": "execute_result"
    }
   ],
   "source": [
    "stats.ttest_ind(csv_file[csv_file.gender==0].value, csv_file[csv_file.gender==1].value, equal_var=False)"
   ]
  },
  {
   "cell_type": "markdown",
   "metadata": {},
   "source": [
    "##### Note: As p-value < 0.05 in this test, I reject the null-hypothesis of equal means, and believe the difference between the mean order values for gender 0 and gender 1 is significant."
   ]
  },
  {
   "cell_type": "markdown",
   "metadata": {},
   "source": [
    "### Questions D\n",
    "Generate a confusion matrix for the gender predictions of customers in this dataset. You should assume that there is only one gender prediction for each customer."
   ]
  },
  {
   "cell_type": "code",
   "execution_count": 36,
   "metadata": {},
   "outputs": [
    {
     "data": {
      "text/plain": [
       "array([[2189, 2218],\n",
       "       [ 895, 3512]])"
      ]
     },
     "execution_count": 36,
     "metadata": {},
     "output_type": "execute_result"
    }
   ],
   "source": [
    "# Given the assumption of only one gender prediction for each customer, use max to return the only gender prediction\n",
    "predicted_genders = csv_file.groupby(['customer_id','gender'], as_index=False)\\\n",
    "                    .agg(pred_gender=('predicted_gender', 'max'))\n",
    "# Derive arrays for true genders and predicted genders\n",
    "gender_true = predicted_genders['gender']\n",
    "gender_predicted = predicted_genders['pred_gender']\n",
    "# Create confusion matrix\n",
    "conf_matrix = confusion_matrix(gender_true, gender_predicted, labels=[0,1])\n",
    "conf_matrix"
   ]
  },
  {
   "cell_type": "markdown",
   "metadata": {},
   "source": [
    "##### Note 1: The rows of this confusion matrix show true genders, and the columns of this confusion matrix show predicted genders.\n",
    "##### Note 2: By using \"labels\" option, I make this confusion matrix put gender 0 before gender 1 in rows and columns."
   ]
  },
  {
   "cell_type": "markdown",
   "metadata": {},
   "source": [
    "### What does the confusion matrix tell you about the quality of the predictions?\n",
    "i. False Positive (2218) was more popular than True Negative (2189). That is, when a customer's true gender was 0, it's more likely that this customer's predicted gender was 1.\n",
    "\n",
    "ii. The Predictions worked much better when a customer's true gender is 1, in which case 3512 out of 4407 (i.e. 895+3512) predictions were correct. This is proved by the recall metric (79.7%) below.\n",
    "\n",
    "iii. The large amount of False Positive predictions (2218) leads to relatively low precision (61.3%) and accuracy (64.7%)."
   ]
  },
  {
   "cell_type": "code",
   "execution_count": 37,
   "metadata": {},
   "outputs": [
    {
     "data": {
      "text/plain": [
       "(0.613, 0.797, 0.647)"
      ]
     },
     "execution_count": 37,
     "metadata": {},
     "output_type": "execute_result"
    }
   ],
   "source": [
    "precision = round(conf_matrix[1,1]/(conf_matrix[1,1]+conf_matrix[0,1]), 3)\n",
    "recall = round(conf_matrix[1,1]/(conf_matrix[1,1]+conf_matrix[1,0]), 3)\n",
    "accuracy = round((conf_matrix[0,0]+conf_matrix[1,1]) / conf_matrix.sum(), 3)\n",
    "precision, recall, accuracy"
   ]
  },
  {
   "cell_type": "markdown",
   "metadata": {},
   "source": [
    "##### Do I need to look at F1-score in this case?\n",
    "The accuracy metrix is largely determined by the number of True Positive predictions and True Negative Predictions. However, I care more about False Positive and False Negative predictions, as they lead to business costs. A relatively large amount of False Positive contributes to a relatively low precision metric, as shown above. A relatively small amount of False Negative contributes to a relatively high recall metric, as shown above. Without contexts, I don't really seek balance between precision and recall metrices. The following computation also indicates no imbalanced class distribution: 4407 customers with gender 0 and 4407 customers with gender 1. Therefore, it's not necessary to look at F1-score (harmonic mean of precision and recall)."
   ]
  },
  {
   "cell_type": "code",
   "execution_count": 38,
   "metadata": {},
   "outputs": [
    {
     "data": {
      "text/plain": [
       "(4407, 4407)"
      ]
     },
     "execution_count": 38,
     "metadata": {},
     "output_type": "execute_result"
    }
   ],
   "source": [
    "conf_matrix[0].sum(), conf_matrix[1].sum()"
   ]
  },
  {
   "cell_type": "markdown",
   "metadata": {},
   "source": [
    "### Question E\n",
    "Describe one of your favorite tools or techniques and give a small example of how it's helped you solve a problem. Limit your answer to one paragraph, and please be specific."
   ]
  },
  {
   "cell_type": "markdown",
   "metadata": {},
   "source": [
    "Answer: My favorite technique is gradient boosting (GBM), because it's simple, impactful and flexible. As part of boosting techniques, gradient boosting is a sequential process, where each sequential model tends to correct the errors of the previous one. The successful later model depends on the previous models. I used Gradient Boosting Decision Tree within the LightGBM framework to predict daily sales for the next 28 days at Walmart. The data covers stores in California/Texas/Wisconsin, and includes product details, prices and holiday special events between 01/2011-06/2018. With Decision Tree as the base learner, subsequent trees were built on errors calculated by the previous tree. Another reasonable choice here was using Random Forest to build independent decision trees, which was known for high accuracy without being overfitting. Comparing the results of these two models for this research question, the gradient boosting technique outperformed Random Forest, and improved prediction accuracy by 14%."
   ]
  }
 ],
 "metadata": {
  "kernelspec": {
   "display_name": "Python 3",
   "language": "python",
   "name": "python3"
  },
  "language_info": {
   "codemirror_mode": {
    "name": "ipython",
    "version": 3
   },
   "file_extension": ".py",
   "mimetype": "text/x-python",
   "name": "python",
   "nbconvert_exporter": "python",
   "pygments_lexer": "ipython3",
   "version": "3.8.5"
  }
 },
 "nbformat": 4,
 "nbformat_minor": 4
}
